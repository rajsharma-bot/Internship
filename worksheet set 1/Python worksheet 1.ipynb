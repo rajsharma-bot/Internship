{
 "cells": [
  {
   "cell_type": "markdown",
   "id": "090fb6df",
   "metadata": {},
   "source": [
    "# Q11 python program to find the factorial of a number."
   ]
  },
  {
   "cell_type": "code",
   "execution_count": 42,
   "id": "a955a002",
   "metadata": {},
   "outputs": [],
   "source": [
    "#Input a number and finding the factorial of a number\n",
    "\n",
    "def fact_num(n):\n",
    "    fact=1\n",
    "    \n",
    "    for i in range(1,n+1):\n",
    "        fact= fact*i\n",
    "    print(\"Factorial of \",n, \"is :\", fact)"
   ]
  },
  {
   "cell_type": "code",
   "execution_count": 43,
   "id": "976bc5fa",
   "metadata": {},
   "outputs": [
    {
     "name": "stdout",
     "output_type": "stream",
     "text": [
      "Factorial of  13 is : 6227020800\n"
     ]
    }
   ],
   "source": [
    "fact_num(13)"
   ]
  },
  {
   "cell_type": "markdown",
   "id": "91b7c8d5",
   "metadata": {},
   "source": [
    "# Q12 python program to find whether a number is prime or composite."
   ]
  },
  {
   "cell_type": "code",
   "execution_count": 44,
   "id": "14d75d01",
   "metadata": {},
   "outputs": [
    {
     "name": "stdout",
     "output_type": "stream",
     "text": [
      "Enter any number 1\n",
      "1 Enter number is neither prime or composite\n"
     ]
    }
   ],
   "source": [
    "#Input a number and check if the number is prime or composite number\n",
    "#Any natural number that is divisible by 1 and itself called Prime Number.\n",
    "#Any positive integer that can be formed by multiplying two smaller positive integers is called composite number.\n",
    "\n",
    "\n",
    "a=int(input(\"Enter any number \")) #taking user input \n",
    "if(a==0 or a==1):#0 or 1 is neither prime number or composite number\n",
    "    print(a,\"Enter number is neither prime or composite\")\n",
    "elif a>1:\n",
    "    for i in range(2,a):\n",
    "        if(a%i == 0):\n",
    "            print(a,\"is a composite number\")\n",
    "            break\n",
    "    else:\n",
    "        print(a,\"is a Prime number\")\n",
    "else:\n",
    "    print(\"Please enter only posivite number\")"
   ]
  },
  {
   "cell_type": "markdown",
   "id": "0ab81b72",
   "metadata": {},
   "source": [
    "# Q13 python program to check whether a given string is palindrome or not."
   ]
  },
  {
   "cell_type": "code",
   "execution_count": 57,
   "id": "075f29cd",
   "metadata": {},
   "outputs": [
    {
     "name": "stdout",
     "output_type": "stream",
     "text": [
      "Enter the string :NItin\n",
      "String is Palindrome\n"
     ]
    }
   ],
   "source": [
    "string=input(\"Enter the string :\")\n",
    "#Converting string to upper case to ignore below use case\n",
    "#Enter the string :NItiN\n",
    "#String is not a Palindrome\n",
    "\n",
    "string=string.upper() \n",
    "\n",
    "if(string==string[::-1]):\n",
    "    print(\"String is Palindrome\")\n",
    "else:\n",
    "    print(\"String is not a Palindrome\")"
   ]
  },
  {
   "cell_type": "markdown",
   "id": "436a5b00",
   "metadata": {},
   "source": [
    "# Q14 Python program to get the third side of right-angled triangle from two given sides."
   ]
  },
  {
   "cell_type": "code",
   "execution_count": 58,
   "id": "8e3ad9d8",
   "metadata": {},
   "outputs": [],
   "source": [
    "#len=height, base=base & hyp= hypotenuse of right-angled triangel\n",
    "#len^2+base^2=hyp^2\n",
    "#for this program we have three case \n",
    "\n",
    "def thirdSide(len,base,hyp):\n",
    "    if len == str(\"x\"):\n",
    "        return (\"Length =\" +str(((hyp**2)-(base**2))**0.5))\n",
    "    elif base == str(\"x\"):\n",
    "        return (\"Base =\" +str(((hyp**2)-(len**2))**0.5))\n",
    "    elif hyp == str(\"x\"):\n",
    "        return(\"hypotenuse =\" +str(((len**2)+(base**2))**0.5))\n",
    "    else:\n",
    "        return (\"Nothing is missing to calcaulte\")"
   ]
  },
  {
   "cell_type": "code",
   "execution_count": 62,
   "id": "01904cf2",
   "metadata": {},
   "outputs": [
    {
     "name": "stdout",
     "output_type": "stream",
     "text": [
      "Length =22.360679774997898\n"
     ]
    }
   ],
   "source": [
    "#Calculating Length of right angled triangle\n",
    "print(thirdSide('x',20,30))"
   ]
  },
  {
   "cell_type": "code",
   "execution_count": 65,
   "id": "0d10a6e0",
   "metadata": {},
   "outputs": [
    {
     "name": "stdout",
     "output_type": "stream",
     "text": [
      "Base =20.0\n"
     ]
    }
   ],
   "source": [
    "#Calculating Base of right angled triangle\n",
    "print(thirdSide(22.360679774997898,'x',30))"
   ]
  },
  {
   "cell_type": "code",
   "execution_count": 66,
   "id": "a4afcaad",
   "metadata": {},
   "outputs": [
    {
     "name": "stdout",
     "output_type": "stream",
     "text": [
      "hypotenuse =30.0\n"
     ]
    }
   ],
   "source": [
    "#Calculating hypotenuse of right angled triangle\n",
    "print(thirdSide(22.360679774997898,20,'x'))"
   ]
  },
  {
   "cell_type": "markdown",
   "id": "bdf1afa0",
   "metadata": {},
   "source": [
    "# Q15 python program to print the frequency of each of the characters present in a given string"
   ]
  },
  {
   "cell_type": "code",
   "execution_count": 70,
   "id": "17a98f50",
   "metadata": {},
   "outputs": [
    {
     "name": "stdout",
     "output_type": "stream",
     "text": [
      "Enter the String malayalam\n",
      "{'m': 2, 'a': 4, 'l': 2, 'y': 1}\n"
     ]
    }
   ],
   "source": [
    "#frequency of each of the characters present in a given string using dict.get() method\n",
    "userinput=input(\"Enter the String \")\n",
    "#To ignore case sensitive problem we can covert string to upper or lower case\n",
    "\n",
    "#userinput=userinput.upper()\n",
    "\n",
    "counter=dict() #Created empty dictionary\n",
    "for i in userinput:\n",
    "    counter[i] =counter.get(i,0) +1\n",
    "print(counter)"
   ]
  },
  {
   "cell_type": "code",
   "execution_count": null,
   "id": "19a699f7",
   "metadata": {},
   "outputs": [],
   "source": []
  },
  {
   "cell_type": "code",
   "execution_count": null,
   "id": "b93ddc89",
   "metadata": {},
   "outputs": [],
   "source": []
  },
  {
   "cell_type": "code",
   "execution_count": null,
   "id": "304a96d9",
   "metadata": {},
   "outputs": [],
   "source": []
  },
  {
   "cell_type": "code",
   "execution_count": null,
   "id": "09a24997",
   "metadata": {},
   "outputs": [],
   "source": []
  }
 ],
 "metadata": {
  "kernelspec": {
   "display_name": "Python 3 (ipykernel)",
   "language": "python",
   "name": "python3"
  },
  "language_info": {
   "codemirror_mode": {
    "name": "ipython",
    "version": 3
   },
   "file_extension": ".py",
   "mimetype": "text/x-python",
   "name": "python",
   "nbconvert_exporter": "python",
   "pygments_lexer": "ipython3",
   "version": "3.9.7"
  }
 },
 "nbformat": 4,
 "nbformat_minor": 5
}
