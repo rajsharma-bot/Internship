{
 "cells": [
  {
   "cell_type": "markdown",
   "id": "d6fd5b63",
   "metadata": {},
   "source": [
    "## MALIGNANT COMMENTS CLASSIFICATION\n",
    "### <u>Problem Statement<u>\n",
    "The proliferation of social media enables people to express their opinions widely online. However, at the same time, this has resulted in the emergence of conflict and hate, making online environments uninviting for users. Although researchers have found that hate is a problem across multiple platforms, there is a lack of models for online hate detection.\n",
    "Online hate, described as abusive language, aggression, cyberbullying, hatefulness and many others has been identified as a major threat on online social media platforms. Social media platforms are the most prominent grounds for such toxic behaviour.   \n",
    "There has been a remarkable increase in the cases of cyberbullying and trolls on various social media platforms. Many celebrities and influences are facing backlashes from people and have to come across hateful and offensive comments. This can take a toll on anyone and affect them mentally leading to depression, mental illness, self-hatred and suicidal thoughts.    \n",
    "Internet comments are bastions of hatred and vitriol. While online anonymity has provided a new outlet for aggression and hate speech, machine learning can be used to fight it. The problem we sought to solve was the tagging of internet comments that are aggressive towards other users. This means that insults to third parties such as celebrities will be tagged as unoffensive, but “u are an idiot” is clearly offensive.\n",
    "Our goal is to build a prototype of online hate and abuse comment classifier which can used to classify hate and offensive comments so that it can be controlled and restricted from spreading hatred and cyberbullying. \n",
    "### <u>Data Set Description<u>\n",
    "The data set contains the training set, which has approximately 1,59,000 samples and the test set which contains nearly 1,53,000 samples. All the data samples contain 8 fields which includes ‘Id’, ‘Comments’, ‘Malignant’, ‘Highly malignant’, ‘Rude’, ‘Threat’, ‘Abuse’ and ‘Loathe’. \n",
    "The label can be either 0 or 1, where 0 denotes a NO while 1 denotes a YES. There are various comments which have multiple labels. The first attribute is a unique ID associated with each comment.   \n",
    "### The data set includes:\n",
    "-\t`Malignant`: It is the Label column, which includes values 0 and 1, denoting if the comment is malignant or not. \n",
    "-\t`Highly Malignant`: It denotes comments that are highly malignant and hurtful. \n",
    "-\t`Rude`: It denotes comments that are very rude and offensive.\n",
    "-\t`Threat`: It contains indication of the comments that are giving any threat to someone. \t\n",
    "-\t`Abuse`: It is for comments that are abusive in nature. \n",
    "-\t`Loathe`: It describes the comments which are hateful and loathing in nature.  \n",
    "-\t`ID`: It includes unique Ids associated with each comment text given.   \n",
    "-\t`Comment text`: This column contains the comments extracted from various social media platforms. "
   ]
  },
  {
   "cell_type": "markdown",
   "id": "a549f2fa",
   "metadata": {},
   "source": [
    "### Importing Required libraries"
   ]
  },
  {
   "cell_type": "code",
   "execution_count": 1,
   "id": "b1ae211a",
   "metadata": {},
   "outputs": [],
   "source": [
    "import numpy as np\n",
    "import pandas as pd\n",
    "import matplotlib.pyplot as plt\n",
    "import seaborn as sns\n",
    "import math\n",
    "\n",
    "import warnings\n",
    "warnings.filterwarnings('ignore')\n",
    "\n",
    "from sklearn.model_selection import train_test_split, GridSearchCV,cross_val_score\n",
    "from sklearn.metrics import accuracy_score,classification_report,confusion_matrix,roc_auc_score,roc_curve,plot_roc_curve\n",
    "\n",
    "from sklearn.linear_model import LogisticRegression\n",
    "from sklearn.neighbors import KNeighborsClassifier\n",
    "from sklearn.tree import DecisionTreeClassifier\n",
    "from sklearn.ensemble import RandomForestClassifier,AdaBoostClassifier,GradientBoostingClassifier\n",
    "from sklearn.naive_bayes import MultinomialNB\n",
    "from sklearn.svm import SVC"
   ]
  },
  {
   "cell_type": "code",
   "execution_count": 2,
   "id": "5dd6d03a",
   "metadata": {},
   "outputs": [
    {
     "data": {
      "text/html": [
       "<div>\n",
       "<style scoped>\n",
       "    .dataframe tbody tr th:only-of-type {\n",
       "        vertical-align: middle;\n",
       "    }\n",
       "\n",
       "    .dataframe tbody tr th {\n",
       "        vertical-align: top;\n",
       "    }\n",
       "\n",
       "    .dataframe thead th {\n",
       "        text-align: right;\n",
       "    }\n",
       "</style>\n",
       "<table border=\"1\" class=\"dataframe\">\n",
       "  <thead>\n",
       "    <tr style=\"text-align: right;\">\n",
       "      <th></th>\n",
       "      <th>id</th>\n",
       "      <th>comment_text</th>\n",
       "      <th>malignant</th>\n",
       "      <th>highly_malignant</th>\n",
       "      <th>rude</th>\n",
       "      <th>threat</th>\n",
       "      <th>abuse</th>\n",
       "      <th>loathe</th>\n",
       "    </tr>\n",
       "  </thead>\n",
       "  <tbody>\n",
       "    <tr>\n",
       "      <th>0</th>\n",
       "      <td>0000997932d777bf</td>\n",
       "      <td>Explanation\\nWhy the edits made under my usern...</td>\n",
       "      <td>0</td>\n",
       "      <td>0</td>\n",
       "      <td>0</td>\n",
       "      <td>0</td>\n",
       "      <td>0</td>\n",
       "      <td>0</td>\n",
       "    </tr>\n",
       "    <tr>\n",
       "      <th>1</th>\n",
       "      <td>000103f0d9cfb60f</td>\n",
       "      <td>D'aww! He matches this background colour I'm s...</td>\n",
       "      <td>0</td>\n",
       "      <td>0</td>\n",
       "      <td>0</td>\n",
       "      <td>0</td>\n",
       "      <td>0</td>\n",
       "      <td>0</td>\n",
       "    </tr>\n",
       "    <tr>\n",
       "      <th>2</th>\n",
       "      <td>000113f07ec002fd</td>\n",
       "      <td>Hey man, I'm really not trying to edit war. It...</td>\n",
       "      <td>0</td>\n",
       "      <td>0</td>\n",
       "      <td>0</td>\n",
       "      <td>0</td>\n",
       "      <td>0</td>\n",
       "      <td>0</td>\n",
       "    </tr>\n",
       "    <tr>\n",
       "      <th>3</th>\n",
       "      <td>0001b41b1c6bb37e</td>\n",
       "      <td>\"\\nMore\\nI can't make any real suggestions on ...</td>\n",
       "      <td>0</td>\n",
       "      <td>0</td>\n",
       "      <td>0</td>\n",
       "      <td>0</td>\n",
       "      <td>0</td>\n",
       "      <td>0</td>\n",
       "    </tr>\n",
       "    <tr>\n",
       "      <th>4</th>\n",
       "      <td>0001d958c54c6e35</td>\n",
       "      <td>You, sir, are my hero. Any chance you remember...</td>\n",
       "      <td>0</td>\n",
       "      <td>0</td>\n",
       "      <td>0</td>\n",
       "      <td>0</td>\n",
       "      <td>0</td>\n",
       "      <td>0</td>\n",
       "    </tr>\n",
       "  </tbody>\n",
       "</table>\n",
       "</div>"
      ],
      "text/plain": [
       "                 id                                       comment_text  \\\n",
       "0  0000997932d777bf  Explanation\\nWhy the edits made under my usern...   \n",
       "1  000103f0d9cfb60f  D'aww! He matches this background colour I'm s...   \n",
       "2  000113f07ec002fd  Hey man, I'm really not trying to edit war. It...   \n",
       "3  0001b41b1c6bb37e  \"\\nMore\\nI can't make any real suggestions on ...   \n",
       "4  0001d958c54c6e35  You, sir, are my hero. Any chance you remember...   \n",
       "\n",
       "   malignant  highly_malignant  rude  threat  abuse  loathe  \n",
       "0          0                 0     0       0      0       0  \n",
       "1          0                 0     0       0      0       0  \n",
       "2          0                 0     0       0      0       0  \n",
       "3          0                 0     0       0      0       0  \n",
       "4          0                 0     0       0      0       0  "
      ]
     },
     "execution_count": 2,
     "metadata": {},
     "output_type": "execute_result"
    }
   ],
   "source": [
    "train=pd.read_csv('train.csv')\n",
    "train.head()"
   ]
  },
  {
   "cell_type": "code",
   "execution_count": 3,
   "id": "69ffb9cf",
   "metadata": {},
   "outputs": [
    {
     "data": {
      "text/html": [
       "<div>\n",
       "<style scoped>\n",
       "    .dataframe tbody tr th:only-of-type {\n",
       "        vertical-align: middle;\n",
       "    }\n",
       "\n",
       "    .dataframe tbody tr th {\n",
       "        vertical-align: top;\n",
       "    }\n",
       "\n",
       "    .dataframe thead th {\n",
       "        text-align: right;\n",
       "    }\n",
       "</style>\n",
       "<table border=\"1\" class=\"dataframe\">\n",
       "  <thead>\n",
       "    <tr style=\"text-align: right;\">\n",
       "      <th></th>\n",
       "      <th>id</th>\n",
       "      <th>comment_text</th>\n",
       "    </tr>\n",
       "  </thead>\n",
       "  <tbody>\n",
       "    <tr>\n",
       "      <th>0</th>\n",
       "      <td>00001cee341fdb12</td>\n",
       "      <td>Yo bitch Ja Rule is more succesful then you'll...</td>\n",
       "    </tr>\n",
       "    <tr>\n",
       "      <th>1</th>\n",
       "      <td>0000247867823ef7</td>\n",
       "      <td>== From RfC == \\n\\n The title is fine as it is...</td>\n",
       "    </tr>\n",
       "    <tr>\n",
       "      <th>2</th>\n",
       "      <td>00013b17ad220c46</td>\n",
       "      <td>\" \\n\\n == Sources == \\n\\n * Zawe Ashton on Lap...</td>\n",
       "    </tr>\n",
       "    <tr>\n",
       "      <th>3</th>\n",
       "      <td>00017563c3f7919a</td>\n",
       "      <td>:If you have a look back at the source, the in...</td>\n",
       "    </tr>\n",
       "    <tr>\n",
       "      <th>4</th>\n",
       "      <td>00017695ad8997eb</td>\n",
       "      <td>I don't anonymously edit articles at all.</td>\n",
       "    </tr>\n",
       "  </tbody>\n",
       "</table>\n",
       "</div>"
      ],
      "text/plain": [
       "                 id                                       comment_text\n",
       "0  00001cee341fdb12  Yo bitch Ja Rule is more succesful then you'll...\n",
       "1  0000247867823ef7  == From RfC == \\n\\n The title is fine as it is...\n",
       "2  00013b17ad220c46  \" \\n\\n == Sources == \\n\\n * Zawe Ashton on Lap...\n",
       "3  00017563c3f7919a  :If you have a look back at the source, the in...\n",
       "4  00017695ad8997eb          I don't anonymously edit articles at all."
      ]
     },
     "execution_count": 3,
     "metadata": {},
     "output_type": "execute_result"
    }
   ],
   "source": [
    "test=pd.read_csv('test.csv')\n",
    "test.head()"
   ]
  },
  {
   "cell_type": "markdown",
   "id": "e7884add",
   "metadata": {},
   "source": [
    "### EDA"
   ]
  },
  {
   "cell_type": "markdown",
   "id": "8c825ed2",
   "metadata": {},
   "source": [
    "#### 1- Train data"
   ]
  },
  {
   "cell_type": "code",
   "execution_count": 4,
   "id": "2f36e549",
   "metadata": {},
   "outputs": [
    {
     "data": {
      "text/plain": [
       "(159571, 8)"
      ]
     },
     "execution_count": 4,
     "metadata": {},
     "output_type": "execute_result"
    }
   ],
   "source": [
    "train.shape"
   ]
  },
  {
   "cell_type": "code",
   "execution_count": 5,
   "id": "d24ca46f",
   "metadata": {},
   "outputs": [
    {
     "name": "stdout",
     "output_type": "stream",
     "text": [
      "<class 'pandas.core.frame.DataFrame'>\n",
      "RangeIndex: 159571 entries, 0 to 159570\n",
      "Data columns (total 8 columns):\n",
      " #   Column            Non-Null Count   Dtype \n",
      "---  ------            --------------   ----- \n",
      " 0   id                159571 non-null  object\n",
      " 1   comment_text      159571 non-null  object\n",
      " 2   malignant         159571 non-null  int64 \n",
      " 3   highly_malignant  159571 non-null  int64 \n",
      " 4   rude              159571 non-null  int64 \n",
      " 5   threat            159571 non-null  int64 \n",
      " 6   abuse             159571 non-null  int64 \n",
      " 7   loathe            159571 non-null  int64 \n",
      "dtypes: int64(6), object(2)\n",
      "memory usage: 9.7+ MB\n"
     ]
    }
   ],
   "source": [
    "train.info()"
   ]
  },
  {
   "cell_type": "markdown",
   "id": "80a64b55",
   "metadata": {},
   "source": [
    "In Train data we have 8 columns and 159571 rows \n",
    "And except Id and comment_text (Object) all other column hsving int64 dtype"
   ]
  },
  {
   "cell_type": "code",
   "execution_count": 6,
   "id": "35580cfa",
   "metadata": {},
   "outputs": [
    {
     "data": {
      "text/plain": [
       "(153164, 2)"
      ]
     },
     "execution_count": 6,
     "metadata": {},
     "output_type": "execute_result"
    }
   ],
   "source": [
    "test.shape"
   ]
  },
  {
   "cell_type": "code",
   "execution_count": 7,
   "id": "b26f8d20",
   "metadata": {},
   "outputs": [
    {
     "name": "stdout",
     "output_type": "stream",
     "text": [
      "<class 'pandas.core.frame.DataFrame'>\n",
      "RangeIndex: 153164 entries, 0 to 153163\n",
      "Data columns (total 2 columns):\n",
      " #   Column        Non-Null Count   Dtype \n",
      "---  ------        --------------   ----- \n",
      " 0   id            153164 non-null  object\n",
      " 1   comment_text  153164 non-null  object\n",
      "dtypes: object(2)\n",
      "memory usage: 2.3+ MB\n"
     ]
    }
   ],
   "source": [
    "test.info()"
   ]
  },
  {
   "cell_type": "markdown",
   "id": "e9456d76",
   "metadata": {},
   "source": [
    "In Test dataset we have 2 column and 153164 rows"
   ]
  },
  {
   "cell_type": "markdown",
   "id": "33137a25",
   "metadata": {},
   "source": [
    "### Descrptive statistics"
   ]
  },
  {
   "cell_type": "code",
   "execution_count": 8,
   "id": "2a16ba5e",
   "metadata": {},
   "outputs": [
    {
     "data": {
      "text/html": [
       "<div>\n",
       "<style scoped>\n",
       "    .dataframe tbody tr th:only-of-type {\n",
       "        vertical-align: middle;\n",
       "    }\n",
       "\n",
       "    .dataframe tbody tr th {\n",
       "        vertical-align: top;\n",
       "    }\n",
       "\n",
       "    .dataframe thead th {\n",
       "        text-align: right;\n",
       "    }\n",
       "</style>\n",
       "<table border=\"1\" class=\"dataframe\">\n",
       "  <thead>\n",
       "    <tr style=\"text-align: right;\">\n",
       "      <th></th>\n",
       "      <th>malignant</th>\n",
       "      <th>highly_malignant</th>\n",
       "      <th>rude</th>\n",
       "      <th>threat</th>\n",
       "      <th>abuse</th>\n",
       "      <th>loathe</th>\n",
       "    </tr>\n",
       "  </thead>\n",
       "  <tbody>\n",
       "    <tr>\n",
       "      <th>count</th>\n",
       "      <td>159571.000000</td>\n",
       "      <td>159571.000000</td>\n",
       "      <td>159571.000000</td>\n",
       "      <td>159571.000000</td>\n",
       "      <td>159571.000000</td>\n",
       "      <td>159571.000000</td>\n",
       "    </tr>\n",
       "    <tr>\n",
       "      <th>mean</th>\n",
       "      <td>0.095844</td>\n",
       "      <td>0.009996</td>\n",
       "      <td>0.052948</td>\n",
       "      <td>0.002996</td>\n",
       "      <td>0.049364</td>\n",
       "      <td>0.008805</td>\n",
       "    </tr>\n",
       "    <tr>\n",
       "      <th>std</th>\n",
       "      <td>0.294379</td>\n",
       "      <td>0.099477</td>\n",
       "      <td>0.223931</td>\n",
       "      <td>0.054650</td>\n",
       "      <td>0.216627</td>\n",
       "      <td>0.093420</td>\n",
       "    </tr>\n",
       "    <tr>\n",
       "      <th>min</th>\n",
       "      <td>0.000000</td>\n",
       "      <td>0.000000</td>\n",
       "      <td>0.000000</td>\n",
       "      <td>0.000000</td>\n",
       "      <td>0.000000</td>\n",
       "      <td>0.000000</td>\n",
       "    </tr>\n",
       "    <tr>\n",
       "      <th>25%</th>\n",
       "      <td>0.000000</td>\n",
       "      <td>0.000000</td>\n",
       "      <td>0.000000</td>\n",
       "      <td>0.000000</td>\n",
       "      <td>0.000000</td>\n",
       "      <td>0.000000</td>\n",
       "    </tr>\n",
       "    <tr>\n",
       "      <th>50%</th>\n",
       "      <td>0.000000</td>\n",
       "      <td>0.000000</td>\n",
       "      <td>0.000000</td>\n",
       "      <td>0.000000</td>\n",
       "      <td>0.000000</td>\n",
       "      <td>0.000000</td>\n",
       "    </tr>\n",
       "    <tr>\n",
       "      <th>75%</th>\n",
       "      <td>0.000000</td>\n",
       "      <td>0.000000</td>\n",
       "      <td>0.000000</td>\n",
       "      <td>0.000000</td>\n",
       "      <td>0.000000</td>\n",
       "      <td>0.000000</td>\n",
       "    </tr>\n",
       "    <tr>\n",
       "      <th>max</th>\n",
       "      <td>1.000000</td>\n",
       "      <td>1.000000</td>\n",
       "      <td>1.000000</td>\n",
       "      <td>1.000000</td>\n",
       "      <td>1.000000</td>\n",
       "      <td>1.000000</td>\n",
       "    </tr>\n",
       "  </tbody>\n",
       "</table>\n",
       "</div>"
      ],
      "text/plain": [
       "           malignant  highly_malignant           rude         threat  \\\n",
       "count  159571.000000     159571.000000  159571.000000  159571.000000   \n",
       "mean        0.095844          0.009996       0.052948       0.002996   \n",
       "std         0.294379          0.099477       0.223931       0.054650   \n",
       "min         0.000000          0.000000       0.000000       0.000000   \n",
       "25%         0.000000          0.000000       0.000000       0.000000   \n",
       "50%         0.000000          0.000000       0.000000       0.000000   \n",
       "75%         0.000000          0.000000       0.000000       0.000000   \n",
       "max         1.000000          1.000000       1.000000       1.000000   \n",
       "\n",
       "               abuse         loathe  \n",
       "count  159571.000000  159571.000000  \n",
       "mean        0.049364       0.008805  \n",
       "std         0.216627       0.093420  \n",
       "min         0.000000       0.000000  \n",
       "25%         0.000000       0.000000  \n",
       "50%         0.000000       0.000000  \n",
       "75%         0.000000       0.000000  \n",
       "max         1.000000       1.000000  "
      ]
     },
     "execution_count": 8,
     "metadata": {},
     "output_type": "execute_result"
    }
   ],
   "source": [
    "train.describe()"
   ]
  },
  {
   "cell_type": "code",
   "execution_count": 9,
   "id": "6b5edbda",
   "metadata": {},
   "outputs": [
    {
     "data": {
      "text/html": [
       "<div>\n",
       "<style scoped>\n",
       "    .dataframe tbody tr th:only-of-type {\n",
       "        vertical-align: middle;\n",
       "    }\n",
       "\n",
       "    .dataframe tbody tr th {\n",
       "        vertical-align: top;\n",
       "    }\n",
       "\n",
       "    .dataframe thead th {\n",
       "        text-align: right;\n",
       "    }\n",
       "</style>\n",
       "<table border=\"1\" class=\"dataframe\">\n",
       "  <thead>\n",
       "    <tr style=\"text-align: right;\">\n",
       "      <th></th>\n",
       "      <th>id</th>\n",
       "      <th>comment_text</th>\n",
       "    </tr>\n",
       "  </thead>\n",
       "  <tbody>\n",
       "    <tr>\n",
       "      <th>count</th>\n",
       "      <td>153164</td>\n",
       "      <td>153164</td>\n",
       "    </tr>\n",
       "    <tr>\n",
       "      <th>unique</th>\n",
       "      <td>153164</td>\n",
       "      <td>153164</td>\n",
       "    </tr>\n",
       "    <tr>\n",
       "      <th>top</th>\n",
       "      <td>00001cee341fdb12</td>\n",
       "      <td>Yo bitch Ja Rule is more succesful then you'll...</td>\n",
       "    </tr>\n",
       "    <tr>\n",
       "      <th>freq</th>\n",
       "      <td>1</td>\n",
       "      <td>1</td>\n",
       "    </tr>\n",
       "  </tbody>\n",
       "</table>\n",
       "</div>"
      ],
      "text/plain": [
       "                      id                                       comment_text\n",
       "count             153164                                             153164\n",
       "unique            153164                                             153164\n",
       "top     00001cee341fdb12  Yo bitch Ja Rule is more succesful then you'll...\n",
       "freq                   1                                                  1"
      ]
     },
     "execution_count": 9,
     "metadata": {},
     "output_type": "execute_result"
    }
   ],
   "source": [
    "test.describe()"
   ]
  },
  {
   "cell_type": "markdown",
   "id": "6faa5b7f",
   "metadata": {},
   "source": [
    "## Checking for null values"
   ]
  },
  {
   "cell_type": "code",
   "execution_count": 10,
   "id": "39149faa",
   "metadata": {},
   "outputs": [
    {
     "data": {
      "text/plain": [
       "id                  0\n",
       "comment_text        0\n",
       "malignant           0\n",
       "highly_malignant    0\n",
       "rude                0\n",
       "threat              0\n",
       "abuse               0\n",
       "loathe              0\n",
       "dtype: int64"
      ]
     },
     "execution_count": 10,
     "metadata": {},
     "output_type": "execute_result"
    }
   ],
   "source": [
    "train.isnull().sum()"
   ]
  },
  {
   "cell_type": "code",
   "execution_count": 11,
   "id": "a43731b9",
   "metadata": {},
   "outputs": [
    {
     "data": {
      "text/plain": [
       "id              0\n",
       "comment_text    0\n",
       "dtype: int64"
      ]
     },
     "execution_count": 11,
     "metadata": {},
     "output_type": "execute_result"
    }
   ],
   "source": [
    "test.isnull().sum()"
   ]
  },
  {
   "cell_type": "markdown",
   "id": "2f319133",
   "metadata": {},
   "source": [
    "### Checking Null values in heatmap"
   ]
  },
  {
   "cell_type": "code",
   "execution_count": 12,
   "id": "cc432dda",
   "metadata": {},
   "outputs": [
    {
     "name": "stdout",
     "output_type": "stream",
     "text": [
      "id                  0\n",
      "comment_text        0\n",
      "malignant           0\n",
      "highly_malignant    0\n",
      "rude                0\n",
      "threat              0\n",
      "abuse               0\n",
      "loathe              0\n",
      "dtype: int64\n"
     ]
    },
    {
     "data": {
      "image/png": "[encoded data removed]",
      "text/plain": [
       "<Figure size 720x576 with 2 Axes>"
      ]
     },
     "metadata": {},
     "output_type": "display_data"
    }
   ],
   "source": [
    "print(train.isnull().sum())\n",
    "\n",
    "plt.figure(figsize=(10,8),facecolor='white')\n",
    "sns.heatmap(train.isnull(),yticklabels=False)\n",
    "plt.title('Heat map showing if any null values in the train')\n",
    "plt.show()"
   ]
  },
  {
   "cell_type": "markdown",
   "id": "e31f321f",
   "metadata": {},
   "source": [
    "There are no null values in the dataset.\n",
    "\n",
    "### Let us visualise the attributes and understand how the data is spread."
   ]
  },
  {
   "cell_type": "code",
   "execution_count": 13,
   "id": "59c661f9",
   "metadata": {
    "scrolled": false
   },
   "outputs": [
    {
     "name": "stdout",
     "output_type": "stream",
     "text": [
      "id :\n",
      " 0000997932d777bf    1\n",
      "392f4a9354209ec6    1\n",
      "3925db56b320ccc6    1\n",
      "392753482da03615    1\n",
      "3927dd49d646f41f    1\n",
      "                   ..\n",
      "8e30b2de937e8de9    1\n",
      "8e30fd3564ba0b4a    1\n",
      "8e328798f6397fcc    1\n",
      "8e34742563534edd    1\n",
      "fff46fc426af1f9a    1\n",
      "Name: id, Length: 159571, dtype: int64\n",
      "*****************************************\n",
      "comment_text :\n",
      " Explanation\\nWhy the edits made under my username Hardcore Metallica Fan were reverted? They weren't vandalisms, just closure on some GAs after I voted at New York Dolls FAC. And please don't remove the template from the talk page since I'm retired now.89.205.38.27                                                                                                                                                                                                                                                                                                                                                                                                                                                                                                                                                                                                                                                                                                                                                                                                                                                                                                                                                                                                                                                                                                                                                                                                                                                                                                                                                                                                                                                                                                                                                                                                                                                                                                                                                                                                                                                                                                                                                                                                                                                                                                                                                                                                                                                                                                                                                                                                                                                                                                                                                                                                                                                                                                                                                                                                                                                                                                                                                                                                                                                                                                                                                                                                                                                                                                                                                                                                                                                                                                                                                                                                                                                                                                                                                                                     1\n",
      "John Barbirolli \\n\\nWarm thanks for promoting the article and for your kind words about it. At your service for GA, peer review or FA etc if I can be of any use. -                                                                                                                                                                                                                                                                                                                                                                                                                                                                                                                                                                                                                                                                                                                                                                                                                                                                                                                                                                                                                                                                                                                                                                                                                                                                                                                                                                                                                                                                                                                                                                                                                                                                                                                                                                                                                                                                                                                                                                                                                                                                                                                                                                                                                                                                                                                                                                                                                                                                                                                                                                                                                                                                                                                                                                                                                                                                                                                                                                                                                                                                                                                                                                                                                                                                                                                                                                                                                                                                                                                                                                                                                                                                                                                                                                                                                                                                                           1\n",
      "\"\\n\\nHe is an Alumnus, a scientist and an Interaction Design pioneer.  If you want to reword the article, by all means User:Kmarkey  call Carnegie Mellon for verification.  Also, if you read Category:Suspected_Wikipedia_sockpuppets_of_Young_Zaphod it mentions \"\"Herb Gilliland\"\" because of an article involving Mr. Gilliland.  \\n \"                                                                                                                                                                                                                                                                                                                                                                                                                                                                                                                                                                                                                                                                                                                                                                                                                                                                                                                                                                                                                                                                                                                                                                                                                                                                                                                                                                                                                                                                                                                                                                                                                                                                                                                                                                                                                                                                                                                                                                                                                                                                                                                                                                                                                                                                                                                                                                                                                                                                                                                                                                                                                                                                                                                                                                                                                                                                                                                                                                                                                                                                                                                                                                                                                                                                                                                                                                                                                                                                                                                                                                                                                                                                                                                   1\n",
      "Reply on my talk page. -                                                                                                                                                                                                                                                                                                                                                                                                                                                                                                                                                                                                                                                                                                                                                                                                                                                                                                                                                                                                                                                                                                                                                                                                                                                                                                                                                                                                                                                                                                                                                                                                                                                                                                                                                                                                                                                                                                                                                                                                                                                                                                                                                                                                                                                                                                                                                                                                                                                                                                                                                                                                                                                                                                                                                                                                                                                                                                                                                                                                                                                                                                                                                                                                                                                                                                                                                                                                                                                                                                                                                                                                                                                                                                                                                                                                                                                                                                                                                                                                                                      1\n",
      "\"\\n\\n Some tips for you! \\n\\nHi , I thought I'd drop a few notes on your talk page with some help on writing articles o)\\n\\nFirst of all, it may be best for you to do a bit of reading, starting with the Wikipedia manual of style, which will give you a lot of information about how Wikipedia prefers its articles to be written.  It's not as hard to follow as it might look; quite a bit of the information there probably won't be vital for you at first.\\n\\nSecond, I recommend you make a user sandbox - which is just an area you can use to practise in, and to make notes in, and to get things ready in.  If you click this red link: user:/Sandbox, that will let you create that page (it gives you an edit window to start work in).  Anything, anywhere, on the help and information pages which gives you an example, try it out in your sandbox until you're familiar with it.\\n\\nFor your article, the next thing you want to do is start collecting as much information as you can about it.  Google searches (particularly in Books and Scholar) will be your best friend for this!  Once you've found the information, the next most important thing is to start writing up each fact in your own words (very important, this), and make a note at the same time of exactly where that information came from.  Build in the references as you go along; I'm going to copy in, down below this, a whole heap of help on doing references, which was produced by one of our best teachers ().\\n\\nHere's another place that you'll find incredibly useful - citation templates which you can copy and paste into your sandbox, between  tags; you just fill in the blanks from your sources into the template, and you'll end up with nicely formatted inline citations o)  It all helps.  Remember to add a references section to your sandbox (make a new line, and put ==References== on it, and type {{reflist}} on the next line, so that you can see how your citations look as you do them.  Remember to save your page often! You don't want to lose your work.\\n\\nHopefully this will give you a good start and make life easier for you.  (talk …stalk!) \\nHow references work\\n\\n Simple references \\n\\nThese require two parts;\\n\\na)\\nChzz is 98 years old. \"\"The book of Chzz\"\", Aardvark Books, 2009. \\n\\nHe likes tea.  [http://www.nicecupofteaandasitdown.com Tea website] \\n\\nb) A section called \"\"References\"\" with the special code \"\"{{reflist}}\"\";\\n== References ==\\n{{reflist}}\\n\\n(an existing article is likely to already have one of these sections)\\n\\nTo see the result of that, please look at user:chzz/demo/simpleref. Edit it, and check the code; perhaps make a test page of your own, such as user:/reftest and try it out.\\n\\n Named references \\n\\nChzz was born in 1837. \\n\"\"The book of Chzz\"\", Aardvark Books, 2009. \\n \\n\\nChzz lives in Footown.\\n\\nNote that the second usage has a / (and no closing ref tag). This needs a reference section as above; please see user:chzz/demo/namedref to see the result.\\n\\n Citation templates \\n\\nYou can put anything you like between  and , but using citation templates makes for a neat, consistent look;\\n\\nChzz has 37 Olympic medals.  {{Citation\\n | last = Smith\\n | first = John\\n | title = Olympic medal winners of the 20th century\\n | publication-date = 2001\\n | publisher = [[Cambridge University Press]]\\n | page = 125\\n | isbn = 0-521-37169-4\\n}}\\n\\n\\nPlease see user:chzz/demo/citeref to see the result.\\n\\nFor more help and tips on that subject, see user:chzz/help/refs.\\nSomething to make your life easier!\\n\\nHi there !  I've just come across one of your articles, and noticed that you had to create titles for your url links manually, or were using bare urls as references.\\n\\nYou  might want to consider using this tool - it makes your life a whole heap easier, by filling in complete citation templates for your links.  All you do is install the script on Special:MyPage/common.js, or or    1\n",
      "                                                                                                                                                                                                                                                                                                                                                                                                                                                                                                                                                                                                                                                                                                                                                                                                                                                                                                                                                                                                                                                                                                                                                                                                                                                                                                                                                                                                                                                                                                                                                                                                                                                                                                                                                                                                                                                                                                                                                                                                                                                                                                                                                                                                                                                                                                                                                                                                                                                                                                                                                                                                                                                                                                                                                                                                                                                                                                                                                                                                                                                                                                                                                                                                                                                                                                                                                                                                                                                                                                                                                                                                                                                                                                                                                                                                                                                                                                                                                                                                                                                             ..\n",
      ", which also mean that I will avoid edit-warring as WP:BRD says                                                                                                                                                                                                                                                                                                                                                                                                                                                                                                                                                                                                                                                                                                                                                                                                                                                                                                                                                                                                                                                                                                                                                                                                                                                                                                                                                                                                                                                                                                                                                                                                                                                                                                                                                                                                                                                                                                                                                                                                                                                                                                                                                                                                                                                                                                                                                                                                                                                                                                                                                                                                                                                                                                                                                                                                                                                                                                                                                                                                                                                                                                                                                                                                                                                                                                                                                                                                                                                                                                                                                                                                                                                                                                                                                                                                                                                                                                                                                                                               1\n",
      "nutcase \\n\\nyou're a sick bloody nutcase                                                                                                                                                                                                                                                                                                                                                                                                                                                                                                                                                                                                                                                                                                                                                                                                                                                                                                                                                                                                                                                                                                                                                                                                                                                                                                                                                                                                                                                                                                                                                                                                                                                                                                                                                                                                                                                                                                                                                                                                                                                                                                                                                                                                                                                                                                                                                                                                                                                                                                                                                                                                                                                                                                                                                                                                                                                                                                                                                                                                                                                                                                                                                                                                                                                                                                                                                                                                                                                                                                                                                                                                                                                                                                                                                                                                                                                                                                                                                                                                                      1\n",
      "\"\\n\\nDon't worry about the above too much - but copyrighted files like this can't be used when it's \"\"easy\"\" to get free shots.  That's why so many articles on living people don't have an image, they're waiting for free images to appear.  You also need to find some more sources about Kelly - IMDb isn't classed as a very reliable source because like wikipedia most of it is user generated content, so it isn't verifiably correct.   \"                                                                                                                                                                                                                                                                                                                                                                                                                                                                                                                                                                                                                                                                                                                                                                                                                                                                                                                                                                                                                                                                                                                                                                                                                                                                                                                                                                                                                                                                                                                                                                                                                                                                                                                                                                                                                                                                                                                                                                                                                                                                                                                                                                                                                                                                                                                                                                                                                                                                                                                                                                                                                                                                                                                                                                                                                                                                                                                                                                                                                                                                                                                                                                                                                                                                                                                                                                                                                                                                                                                                                                                                            1\n",
      "please reffer tkz.jpg                                                                                                                                                                                                                                                                                                                                                                                                                                                                                                                                                                                                                                                                                                                                                                                                                                                                                                                                                                                                                                                                                                                                                                                                                                                                                                                                                                                                                                                                                                                                                                                                                                                                                                                                                                                                                                                                                                                                                                                                                                                                                                                                                                                                                                                                                                                                                                                                                                                                                                                                                                                                                                                                                                                                                                                                                                                                                                                                                                                                                                                                                                                                                                                                                                                                                                                                                                                                                                                                                                                                                                                                                                                                                                                                                                                                                                                                                                                                                                                                                                         1\n",
      "\"\\nAnd ... I really don't think you understand.  I came here and my idea was bad right away.  What kind of community goes \"\"you have bad ideas\"\" go away, instead of helping rewrite them.   \"                                                                                                                                                                                                                                                                                                                                                                                                                                                                                                                                                                                                                                                                                                                                                                                                                                                                                                                                                                                                                                                                                                                                                                                                                                                                                                                                                                                                                                                                                                                                                                                                                                                                                                                                                                                                                                                                                                                                                                                                                                                                                                                                                                                                                                                                                                                                                                                                                                                                                                                                                                                                                                                                                                                                                                                                                                                                                                                                                                                                                                                                                                                                                                                                                                                                                                                                                                                                                                                                                                                                                                                                                                                                                                                                                                                                                                                                1\n",
      "Name: comment_text, Length: 159571, dtype: int64\n",
      "*****************************************\n",
      "malignant :\n",
      " 0    144277\n",
      "1     15294\n",
      "Name: malignant, dtype: int64\n",
      "*****************************************\n",
      "highly_malignant :\n",
      " 0    157976\n",
      "1      1595\n",
      "Name: highly_malignant, dtype: int64\n",
      "*****************************************\n",
      "rude :\n",
      " 0    151122\n",
      "1      8449\n",
      "Name: rude, dtype: int64\n",
      "*****************************************\n",
      "threat :\n",
      " 0    159093\n",
      "1       478\n",
      "Name: threat, dtype: int64\n",
      "*****************************************\n",
      "abuse :\n",
      " 0    151694\n",
      "1      7877\n",
      "Name: abuse, dtype: int64\n",
      "*****************************************\n",
      "loathe :\n",
      " 0    158166\n",
      "1      1405\n",
      "Name: loathe, dtype: int64\n",
      "*****************************************\n"
     ]
    }
   ],
   "source": [
    "#getting the unique values for all features, and getting the unique values of categorical variables\n",
    "for col in train:\n",
    "    print(col,':\\n',train[col].value_counts())\n",
    "    print('*****************************************')"
   ]
  },
  {
   "cell_type": "code",
   "execution_count": 14,
   "id": "7a853cdf",
   "metadata": {
    "scrolled": false
   },
   "outputs": [
    {
     "data": {
      "image/png": "[encoded data removed]",
      "text/plain": [
       "<Figure size 576x648 with 1 Axes>"
      ]
     },
     "metadata": {
      "needs_background": "light"
     },
     "output_type": "display_data"
    },
    {
     "data": {
      "image/png": "[encoded data removed]",
      "text/plain": [
       "<Figure size 576x648 with 1 Axes>"
      ]
     },
     "metadata": {
      "needs_background": "light"
     },
     "output_type": "display_data"
    },
    {
     "data": {
      "image/png": "[encoded data removed]",
      "text/plain": [
       "<Figure size 576x648 with 1 Axes>"
      ]
     },
     "metadata": {
      "needs_background": "light"
     },
     "output_type": "display_data"
    },
    {
     "data": {
      "image/png": "[encoded data removed]",
      "text/plain": [
       "<Figure size 576x648 with 1 Axes>"
      ]
     },
     "metadata": {
      "needs_background": "light"
     },
     "output_type": "display_data"
    },
    {
     "data": {
      "image/png": "[encoded data removed]",
      "text/plain": [
       "<Figure size 576x648 with 1 Axes>"
      ]
     },
     "metadata": {
      "needs_background": "light"
     },
     "output_type": "display_data"
    },
    {
     "data": {
      "image/png": "[encoded data removed]",
      "text/plain": [
       "<Figure size 576x648 with 1 Axes>"
      ]
     },
     "metadata": {
      "needs_background": "light"
     },
     "output_type": "display_data"
    }
   ],
   "source": [
    "col = ['id', 'comment_text', 'malignant', 'highly_malignant', 'rude', 'threat','abuse', 'loathe']\n",
    "\n",
    "for i in col:\n",
    "    if train[i].dtype != 'object':\n",
    "        plt.figure(figsize=(8,9))\n",
    "        sns.countplot(train[i],palette='YlOrRd')\n",
    "        plt.title('Graph showing distribution of {} attribute'.format(i))"
   ]
  },
  {
   "cell_type": "markdown",
   "id": "eec6c0b7",
   "metadata": {},
   "source": [
    "### Around 80% of the comments are having normal texts where as 15-20% have toxic comments\n",
    "\n",
    "## Feature Engineering:\n",
    "### Let us add another columns which indicates normal text and drop the unwanted column."
   ]
  },
  {
   "cell_type": "code",
   "execution_count": 15,
   "id": "fc69b9f5",
   "metadata": {},
   "outputs": [],
   "source": [
    "#creating a column called 'normal_comment'\n",
    "col = ['malignant', 'highly_malignant', 'rude', 'threat', 'abuse', 'loathe']\n",
    "\n",
    "train['normal_comment'] = 1- train[col].max(axis=1)"
   ]
  },
  {
   "cell_type": "code",
   "execution_count": 16,
   "id": "97b6d6ab",
   "metadata": {},
   "outputs": [],
   "source": [
    "train.drop(columns=['id'],inplace=True,axis=1) \n",
    "\n",
    "train['Row Length']=train['comment_text'].str.len()"
   ]
  },
  {
   "cell_type": "code",
   "execution_count": 17,
   "id": "330f5f5b",
   "metadata": {},
   "outputs": [
    {
     "name": "stdout",
     "output_type": "stream",
     "text": [
      "1    143346\n",
      "0     16225\n",
      "Name: normal_comment, dtype: int64\n"
     ]
    },
    {
     "data": {
      "image/png": "[encoded data removed]",
      "text/plain": [
       "<Figure size 576x576 with 1 Axes>"
      ]
     },
     "metadata": {},
     "output_type": "display_data"
    }
   ],
   "source": [
    "print(train['normal_comment'].value_counts())\n",
    "\n",
    "plt.figure(figsize=(8,8),facecolor='white')\n",
    "plt.pie(train['normal_comment'].value_counts(),labels=[1,0]) \n",
    "plt.title('Graph showing normal comments vs malignant')\n",
    "plt.legend(['Normal Comments','Malignant Comments'])\n",
    "plt.show()"
   ]
  },
  {
   "cell_type": "code",
   "execution_count": 18,
   "id": "7246bfbc",
   "metadata": {},
   "outputs": [
    {
     "name": "stdout",
     "output_type": "stream",
     "text": [
      "malignant           15294\n",
      "highly_malignant     1595\n",
      "rude                 8449\n",
      "threat                478\n",
      "abuse                7877\n",
      "loathe               1405\n",
      "dtype: int64\n"
     ]
    },
    {
     "data": {
      "image/png": "[encoded data removed]",
      "text/plain": [
       "<Figure size 720x720 with 1 Axes>"
      ]
     },
     "metadata": {},
     "output_type": "display_data"
    }
   ],
   "source": [
    "print(train[col].sum())\n",
    "plt.figure(figsize=(10,10),facecolor='white')\n",
    "sns.set_context('talk',font_scale=0.7)\n",
    "plt.pie(train[col].sum(),labels=col,autopct='%2.0f%%',)\n",
    "plt.legend(col)\n",
    "plt.show()"
   ]
  },
  {
   "cell_type": "markdown",
   "id": "96b019b9",
   "metadata": {},
   "source": [
    "## There are 50% of rude and abuse comments.\n",
    "\n",
    "## Let us check correlation between the attributes"
   ]
  },
  {
   "cell_type": "code",
   "execution_count": 19,
   "id": "a3689136",
   "metadata": {},
   "outputs": [
    {
     "data": {
      "image/png": "[encoded data removed]",
      "text/plain": [
       "<Figure size 720x720 with 2 Axes>"
      ]
     },
     "metadata": {},
     "output_type": "display_data"
    }
   ],
   "source": [
    "plt.figure(figsize=(10,10),facecolor='white')\n",
    "sns.heatmap(train.corr(),annot=True)\n",
    "\n",
    "plt.show()"
   ]
  },
  {
   "cell_type": "markdown",
   "id": "349f8360",
   "metadata": {},
   "source": [
    "## We can see that normal and malignant comments are negatively correlated\n",
    "## Rude and abuse comments have nearly similarities hence more correlated"
   ]
  },
  {
   "cell_type": "code",
   "execution_count": 20,
   "id": "1bb1cc9f",
   "metadata": {},
   "outputs": [
    {
     "data": {
      "text/plain": [
       "malignant            2.745854\n",
       "highly_malignant     9.851722\n",
       "rude                 3.992817\n",
       "threat              18.189001\n",
       "abuse                4.160540\n",
       "loathe              10.515923\n",
       "normal_comment      -2.635944\n",
       "Row Length           4.121676\n",
       "dtype: float64"
      ]
     },
     "execution_count": 20,
     "metadata": {},
     "output_type": "execute_result"
    }
   ],
   "source": [
    "# checking the skewness for the features:\n",
    "train.skew()"
   ]
  },
  {
   "cell_type": "markdown",
   "id": "a975ebe9",
   "metadata": {},
   "source": [
    "### Let us check for stop words in the dataset and try to remove these words from the comment_text so that we can focus on exact words which are responsible for classifying the comment as malignant."
   ]
  },
  {
   "cell_type": "code",
   "execution_count": 21,
   "id": "c7abbd17",
   "metadata": {},
   "outputs": [],
   "source": [
    "import nltk\n",
    "from nltk.corpus import  stopwords\n",
    "import string"
   ]
  },
  {
   "cell_type": "code",
   "execution_count": 22,
   "id": "e350d142",
   "metadata": {},
   "outputs": [],
   "source": [
    "# Convert all messages to lower case\n",
    "train['comment_text'] = train['comment_text'].str.lower()\n",
    "\n",
    "# Replace email addresses with 'email'\n",
    "train['comment_text'] = train['comment_text'].str.replace(r'^.+@[^\\.].*\\.[a-z]{2,}$',\n",
    "                                 'emailaddress')\n",
    "\n",
    "# Replace URLs with 'webaddress'\n",
    "train['comment_text'] = train['comment_text'].str.replace(r'^http\\://[a-zA-Z0-9\\-\\.]+\\.[a-zA-Z]{2,3}(/\\S*)?$',\n",
    "                                  'webaddress')\n",
    "\n",
    "# Replace money symbols with 'moneysymb' (£ can by typed with ALT key + 156)\n",
    "train['comment_text'] = train['comment_text'].str.replace(r'£|\\$', 'dollers')\n",
    "    \n",
    "# Replace 10 digit phone numbers (formats include paranthesis, spaces, no spaces, dashes) with 'phonenumber'\n",
    "train['comment_text'] = train['comment_text'].str.replace(r'^\\(?[\\d]{3}\\)?[\\s-]?[\\d]{3}[\\s-]?[\\d]{4}$',\n",
    "                                  'phonenumber')\n",
    "\n",
    "    \n",
    "# Replace numbers with 'numbr'\n",
    "train['comment_text'] = train['comment_text'].str.replace(r'\\d+(\\.\\d+)?', 'numbr')\n",
    "\n",
    "\n",
    "train['comment_text'] = train['comment_text'].apply(lambda x: ' '.join(\n",
    "    term for term in x.split() if term not in string.punctuation))\n",
    "\n",
    "stop_words = set(stopwords.words('english') + ['u', 'ü', 'ur', '4', '2', 'im', 'dont', 'doin', 'ure'])\n",
    "train['comment_text'] = train['comment_text'].apply(lambda x: ' '.join(\n",
    "    term for term in x.split() if term not in stop_words))"
   ]
  },
  {
   "cell_type": "markdown",
   "id": "84471bee",
   "metadata": {},
   "source": [
    "## Let us check the length of comments after cleaning the stop words"
   ]
  },
  {
   "cell_type": "code",
   "execution_count": 23,
   "id": "4a133295",
   "metadata": {},
   "outputs": [
    {
     "data": {
      "text/html": [
       "<div>\n",
       "<style scoped>\n",
       "    .dataframe tbody tr th:only-of-type {\n",
       "        vertical-align: middle;\n",
       "    }\n",
       "\n",
       "    .dataframe tbody tr th {\n",
       "        vertical-align: top;\n",
       "    }\n",
       "\n",
       "    .dataframe thead th {\n",
       "        text-align: right;\n",
       "    }\n",
       "</style>\n",
       "<table border=\"1\" class=\"dataframe\">\n",
       "  <thead>\n",
       "    <tr style=\"text-align: right;\">\n",
       "      <th></th>\n",
       "      <th>comment_text</th>\n",
       "      <th>malignant</th>\n",
       "      <th>highly_malignant</th>\n",
       "      <th>rude</th>\n",
       "      <th>threat</th>\n",
       "      <th>abuse</th>\n",
       "      <th>loathe</th>\n",
       "      <th>normal_comment</th>\n",
       "      <th>Row Length</th>\n",
       "      <th>clean_length</th>\n",
       "    </tr>\n",
       "  </thead>\n",
       "  <tbody>\n",
       "    <tr>\n",
       "      <th>0</th>\n",
       "      <td>explanation edits made username hardcore metal...</td>\n",
       "      <td>0</td>\n",
       "      <td>0</td>\n",
       "      <td>0</td>\n",
       "      <td>0</td>\n",
       "      <td>0</td>\n",
       "      <td>0</td>\n",
       "      <td>1</td>\n",
       "      <td>264</td>\n",
       "      <td>181</td>\n",
       "    </tr>\n",
       "    <tr>\n",
       "      <th>1</th>\n",
       "      <td>d'aww! matches background colour i'm seemingly...</td>\n",
       "      <td>0</td>\n",
       "      <td>0</td>\n",
       "      <td>0</td>\n",
       "      <td>0</td>\n",
       "      <td>0</td>\n",
       "      <td>0</td>\n",
       "      <td>1</td>\n",
       "      <td>112</td>\n",
       "      <td>113</td>\n",
       "    </tr>\n",
       "    <tr>\n",
       "      <th>2</th>\n",
       "      <td>hey man, i'm really trying edit war. guy const...</td>\n",
       "      <td>0</td>\n",
       "      <td>0</td>\n",
       "      <td>0</td>\n",
       "      <td>0</td>\n",
       "      <td>0</td>\n",
       "      <td>0</td>\n",
       "      <td>1</td>\n",
       "      <td>233</td>\n",
       "      <td>149</td>\n",
       "    </tr>\n",
       "    <tr>\n",
       "      <th>3</th>\n",
       "      <td>can't make real suggestions improvement wonder...</td>\n",
       "      <td>0</td>\n",
       "      <td>0</td>\n",
       "      <td>0</td>\n",
       "      <td>0</td>\n",
       "      <td>0</td>\n",
       "      <td>0</td>\n",
       "      <td>1</td>\n",
       "      <td>622</td>\n",
       "      <td>404</td>\n",
       "    </tr>\n",
       "    <tr>\n",
       "      <th>4</th>\n",
       "      <td>you, sir, hero. chance remember page that's on?</td>\n",
       "      <td>0</td>\n",
       "      <td>0</td>\n",
       "      <td>0</td>\n",
       "      <td>0</td>\n",
       "      <td>0</td>\n",
       "      <td>0</td>\n",
       "      <td>1</td>\n",
       "      <td>67</td>\n",
       "      <td>47</td>\n",
       "    </tr>\n",
       "  </tbody>\n",
       "</table>\n",
       "</div>"
      ],
      "text/plain": [
       "                                        comment_text  malignant  \\\n",
       "0  explanation edits made username hardcore metal...          0   \n",
       "1  d'aww! matches background colour i'm seemingly...          0   \n",
       "2  hey man, i'm really trying edit war. guy const...          0   \n",
       "3  can't make real suggestions improvement wonder...          0   \n",
       "4    you, sir, hero. chance remember page that's on?          0   \n",
       "\n",
       "   highly_malignant  rude  threat  abuse  loathe  normal_comment  Row Length  \\\n",
       "0                 0     0       0      0       0               1         264   \n",
       "1                 0     0       0      0       0               1         112   \n",
       "2                 0     0       0      0       0               1         233   \n",
       "3                 0     0       0      0       0               1         622   \n",
       "4                 0     0       0      0       0               1          67   \n",
       "\n",
       "   clean_length  \n",
       "0           181  \n",
       "1           113  \n",
       "2           149  \n",
       "3           404  \n",
       "4            47  "
      ]
     },
     "execution_count": 23,
     "metadata": {},
     "output_type": "execute_result"
    }
   ],
   "source": [
    "train['clean_length'] = train.comment_text.str.len()\n",
    "train.head()"
   ]
  },
  {
   "cell_type": "code",
   "execution_count": 24,
   "id": "c9388d64",
   "metadata": {
    "scrolled": true
   },
   "outputs": [
    {
     "name": "stdout",
     "output_type": "stream",
     "text": [
      "Original Length 62893130\n",
      "Clean Length 43973223\n"
     ]
    }
   ],
   "source": [
    "# Total length removal\n",
    "print ('Original Length', train['Row Length'].sum())\n",
    "print ('Clean Length', train.clean_length.sum())"
   ]
  },
  {
   "cell_type": "code",
   "execution_count": 25,
   "id": "7e2fb474",
   "metadata": {},
   "outputs": [
    {
     "data": {
      "text/plain": [
       "(159571, 10)"
      ]
     },
     "execution_count": 25,
     "metadata": {},
     "output_type": "execute_result"
    }
   ],
   "source": [
    "train.shape"
   ]
  },
  {
   "cell_type": "code",
   "execution_count": 26,
   "id": "e39337e5",
   "metadata": {},
   "outputs": [
    {
     "data": {
      "text/plain": [
       "(153164, 2)"
      ]
     },
     "execution_count": 26,
     "metadata": {},
     "output_type": "execute_result"
    }
   ],
   "source": [
    "test.shape"
   ]
  },
  {
   "cell_type": "code",
   "execution_count": 27,
   "id": "a58fb2e3",
   "metadata": {},
   "outputs": [
    {
     "name": "stdout",
     "output_type": "stream",
     "text": [
      "0    143346\n",
      "1      6360\n",
      "3      4209\n",
      "2      3480\n",
      "4      1760\n",
      "5       385\n",
      "6        31\n",
      "Name: bad, dtype: int64\n",
      "0    143346\n",
      "1     16225\n",
      "Name: bad, dtype: int64\n"
     ]
    }
   ],
   "source": [
    "#Let us convert the numerical columns into categorical column\n",
    "\n",
    "col = ['malignant','highly_malignant','rude','threat','abuse','loathe']\n",
    "target_data = train[col]\n",
    "\n",
    "train['bad'] =train[col].sum(axis =1)\n",
    "print(train['bad'].value_counts())\n",
    "train['bad'] = train['bad'] > 0 \n",
    "train['bad'] = train['bad'].astype(int)\n",
    "print(train['bad'].value_counts())"
   ]
  },
  {
   "cell_type": "code",
   "execution_count": 28,
   "id": "81a05bc6",
   "metadata": {},
   "outputs": [
    {
     "data": {
      "image/png": "[encoded data removed]",
      "text/plain": [
       "<Figure size 432x288 with 1 Axes>"
      ]
     },
     "metadata": {},
     "output_type": "display_data"
    }
   ],
   "source": [
    "sns.set()\n",
    "sns.countplot(x=\"bad\" , data = train)\n",
    "plt.show()"
   ]
  },
  {
   "cell_type": "markdown",
   "id": "d1128530",
   "metadata": {},
   "source": [
    "## Model Building\n",
    "\n",
    "### Let us split the independent and target variables"
   ]
  },
  {
   "cell_type": "code",
   "execution_count": 29,
   "id": "b2ffad14",
   "metadata": {},
   "outputs": [],
   "source": [
    "#  Convert text into vectors using TF-IDF\n",
    "from sklearn.feature_extraction.text import TfidfVectorizer\n",
    "tf_vec = TfidfVectorizer(max_features = 10000, stop_words='english')\n",
    "features = tf_vec.fit_transform(train['comment_text'])\n",
    "x = features"
   ]
  },
  {
   "cell_type": "code",
   "execution_count": 30,
   "id": "251d6649",
   "metadata": {},
   "outputs": [
    {
     "data": {
      "text/plain": [
       "<153164x10000 sparse matrix of type '<class 'numpy.float64'>'\n",
       "\twith 2940344 stored elements in Compressed Sparse Row format>"
      ]
     },
     "execution_count": 30,
     "metadata": {},
     "output_type": "execute_result"
    }
   ],
   "source": [
    "#dropping the id column from test dataset and converting the text into vectors\n",
    "\n",
    "test.drop('id',axis=1,inplace=True)\n",
    "\n",
    "test_data =tf_vec.fit_transform(test['comment_text'])\n",
    "test_data"
   ]
  },
  {
   "cell_type": "code",
   "execution_count": 31,
   "id": "43b8b1f4",
   "metadata": {},
   "outputs": [],
   "source": [
    "y=train['bad']\n",
    "X_train,X_test,y_train,y_test=train_test_split(x,y,random_state=56,test_size=.30)"
   ]
  },
  {
   "cell_type": "markdown",
   "id": "ecc4c367",
   "metadata": {},
   "source": [
    "## Logistic Regression"
   ]
  },
  {
   "cell_type": "code",
   "execution_count": 33,
   "id": "05e87b1d",
   "metadata": {},
   "outputs": [
    {
     "name": "stdout",
     "output_type": "stream",
     "text": [
      "\n",
      " The accuracy score of Model : 0.955276570855615\n",
      "\n",
      " The ROC AUC score of Model : 0.802294632116666\n",
      "\n",
      " The CV score of Model : 0.9541804391779747\n",
      "\n",
      " The confusion Matrix :\n",
      "  [[42730   220]\n",
      " [ 1921  3001]]\n",
      "\n",
      " The classification report:\n",
      "                precision    recall  f1-score   support\n",
      "\n",
      "           0       0.96      0.99      0.98     42950\n",
      "           1       0.93      0.61      0.74      4922\n",
      "\n",
      "    accuracy                           0.96     47872\n",
      "   macro avg       0.94      0.80      0.86     47872\n",
      "weighted avg       0.95      0.96      0.95     47872\n",
      "\n",
      "*******************************************\n"
     ]
    }
   ],
   "source": [
    "Log_reg = LogisticRegression()\n",
    "Log_reg.fit(X_train, y_train)\n",
    "y_pred = Log_reg.predict(X_test)\n",
    "\n",
    "print(\"\\n The accuracy score of Model :\", accuracy_score(y_test,y_pred))\n",
    "print(\"\\n The ROC AUC score of Model :\", roc_auc_score(y_test,y_pred))\n",
    "\n",
    "\n",
    "CV=cross_val_score(Log_reg,X_train, y_train,cv=5)\n",
    "print(\"\\n The CV score of Model :\", CV.mean())\n",
    "\n",
    "print(\"\\n The confusion Matrix :\\n \", confusion_matrix(y_test, y_pred))\n",
    "print(\"\\n The classification report:\\n \",classification_report(y_test, y_pred))\n",
    "\n",
    "      \n",
    "print(\"*******************************************\")"
   ]
  },
  {
   "cell_type": "markdown",
   "id": "31dd38ff",
   "metadata": {},
   "source": [
    "### Random forest"
   ]
  },
  {
   "cell_type": "code",
   "execution_count": 34,
   "id": "35bbc0be",
   "metadata": {},
   "outputs": [
    {
     "name": "stdout",
     "output_type": "stream",
     "text": [
      "******************RESULTS******************\n",
      "\n",
      " The accuracy score of train Model : 0.9988719684151156\n",
      "\n",
      " The accuracy score test of Model : 0.9564463569518716\n",
      "\n",
      " The ROC AUC score of Model : 0.8365853389713052\n",
      "\n",
      " The CV score of Model : 0.9562216373458815\n",
      "\n",
      " The confusion Matrix :\n",
      "  [[42412   538]\n",
      " [ 1547  3375]]\n",
      "\n",
      " The classification report:\n",
      "                precision    recall  f1-score   support\n",
      "\n",
      "           0       0.96      0.99      0.98     42950\n",
      "           1       0.86      0.69      0.76      4922\n",
      "\n",
      "    accuracy                           0.96     47872\n",
      "   macro avg       0.91      0.84      0.87     47872\n",
      "weighted avg       0.95      0.96      0.95     47872\n",
      "\n",
      "*******************************************\n"
     ]
    }
   ],
   "source": [
    "rf = RandomForestClassifier()\n",
    "rf.fit(X_train, y_train)\n",
    "y_pred_train = rf.predict(X_train)\n",
    "y_pred = rf.predict(X_test) \n",
    "print(\"******************RESULTS******************\")\n",
    "print(\"\\n The accuracy score of train Model :\", accuracy_score(y_train,y_pred_train)) \n",
    "\n",
    "print(\"\\n The accuracy score test of Model :\", accuracy_score(y_test,y_pred)) \n",
    "print(\"\\n The ROC AUC score of Model :\", roc_auc_score(y_test,y_pred))\n",
    "\n",
    "CV=cross_val_score(rf,X_train, y_train,cv=5)\n",
    "print(\"\\n The CV score of Model :\", CV.mean())\n",
    "\n",
    "print(\"\\n The confusion Matrix :\\n \", confusion_matrix(y_test, y_pred))\n",
    "print(\"\\n The classification report:\\n \",classification_report(y_test, y_pred))\n",
    "      \n",
    "      \n",
    "print(\"*******************************************\")"
   ]
  },
  {
   "cell_type": "markdown",
   "id": "63ad654f",
   "metadata": {},
   "source": [
    "## KNN "
   ]
  },
  {
   "cell_type": "code",
   "execution_count": 35,
   "id": "5efe53de",
   "metadata": {},
   "outputs": [
    {
     "name": "stdout",
     "output_type": "stream",
     "text": [
      "******************RESULTS******************\n",
      "\n",
      " The accuracy score of train Model : 0.9289519154155363\n",
      "\n",
      " The accuracy score test of Model : 0.9174883021390374\n",
      "\n",
      " The ROC AUC score of Model : 0.6326489653022542\n",
      "\n",
      " The CV score of Model : 0.9171970995640825\n",
      "\n",
      " The confusion Matrix :\n",
      "  [[42573   377]\n",
      " [ 3573  1349]]\n",
      "\n",
      " The classification report:\n",
      "                precision    recall  f1-score   support\n",
      "\n",
      "           0       0.92      0.99      0.96     42950\n",
      "           1       0.78      0.27      0.41      4922\n",
      "\n",
      "    accuracy                           0.92     47872\n",
      "   macro avg       0.85      0.63      0.68     47872\n",
      "weighted avg       0.91      0.92      0.90     47872\n",
      "\n",
      "*******************************************\n"
     ]
    }
   ],
   "source": [
    "knn_clf = KNeighborsClassifier()\n",
    "knn_clf.fit(X_train, y_train)\n",
    "\n",
    "y_pred_train = knn_clf.predict(X_train)\n",
    "y_pred = knn_clf.predict(X_test) \n",
    "print(\"******************RESULTS******************\")\n",
    "print(\"\\n The accuracy score of train Model :\", accuracy_score(y_train,y_pred_train)) \n",
    "\n",
    "print(\"\\n The accuracy score test of Model :\", accuracy_score(y_test,y_pred)) \n",
    "print(\"\\n The ROC AUC score of Model :\", roc_auc_score(y_test,y_pred))\n",
    "\n",
    "CV=cross_val_score(knn_clf,X_train, y_train,cv=5)\n",
    "print(\"\\n The CV score of Model :\", CV.mean())\n",
    "\n",
    "print(\"\\n The confusion Matrix :\\n \", confusion_matrix(y_test, y_pred))\n",
    "print(\"\\n The classification report:\\n \",classification_report(y_test, y_pred))\n",
    "      \n",
    "      \n",
    "print(\"*******************************************\")"
   ]
  },
  {
   "cell_type": "markdown",
   "id": "7614d98b",
   "metadata": {},
   "source": [
    "## Multinomial NB"
   ]
  },
  {
   "cell_type": "code",
   "execution_count": 36,
   "id": "6edbe6ee",
   "metadata": {},
   "outputs": [
    {
     "name": "stdout",
     "output_type": "stream",
     "text": [
      "******************RESULTS******************\n",
      "\n",
      " The accuracy score of train Model : 0.9513334944807026\n",
      "\n",
      " The accuracy score test of Model : 0.9472342914438503\n",
      "\n",
      " The ROC AUC score of Model : 0.7588672369286836\n",
      "\n",
      " The CV score of Model : 0.9471526225477417\n",
      "\n",
      " The confusion Matrix :\n",
      "  [[42778   172]\n",
      " [ 2354  2568]]\n",
      "\n",
      " The classification report:\n",
      "                precision    recall  f1-score   support\n",
      "\n",
      "           0       0.95      1.00      0.97     42950\n",
      "           1       0.94      0.52      0.67      4922\n",
      "\n",
      "    accuracy                           0.95     47872\n",
      "   macro avg       0.94      0.76      0.82     47872\n",
      "weighted avg       0.95      0.95      0.94     47872\n",
      "\n",
      "*******************************************\n"
     ]
    }
   ],
   "source": [
    "mnn_clf = MultinomialNB()\n",
    "mnn_clf.fit(X_train, y_train)\n",
    "y_pred_train = mnn_clf.predict(X_train)\n",
    "y_pred = mnn_clf.predict(X_test) \n",
    "print(\"******************RESULTS******************\")\n",
    "print(\"\\n The accuracy score of train Model :\", accuracy_score(y_train,y_pred_train)) \n",
    "\n",
    "print(\"\\n The accuracy score test of Model :\", accuracy_score(y_test,y_pred)) \n",
    "print(\"\\n The ROC AUC score of Model :\", roc_auc_score(y_test,y_pred))\n",
    "\n",
    "CV=cross_val_score(mnn_clf,X_train, y_train,cv=5)\n",
    "print(\"\\n The CV score of Model :\", CV.mean())\n",
    "\n",
    "print(\"\\n The confusion Matrix :\\n \", confusion_matrix(y_test, y_pred))\n",
    "print(\"\\n The classification report:\\n \",classification_report(y_test, y_pred))\n",
    "      \n",
    "      \n",
    "print(\"*******************************************\")"
   ]
  },
  {
   "cell_type": "markdown",
   "id": "92a759b5",
   "metadata": {},
   "source": [
    "## Decision Tree"
   ]
  },
  {
   "cell_type": "code",
   "execution_count": 37,
   "id": "ae7a46c5",
   "metadata": {},
   "outputs": [
    {
     "name": "stdout",
     "output_type": "stream",
     "text": [
      "******************RESULTS******************\n",
      "\n",
      " The accuracy score of train Model : 0.9988719684151156\n",
      "\n",
      " The accuracy score test of Model : 0.9403617981283422\n",
      "\n",
      " The ROC AUC score of Model : 0.8283409736712268\n",
      "\n",
      " The CV score of Model : 0.940312821922053\n",
      "\n",
      " The confusion Matrix :\n",
      "  [[41634  1316]\n",
      " [ 1539  3383]]\n",
      "\n",
      " The classification report:\n",
      "                precision    recall  f1-score   support\n",
      "\n",
      "           0       0.96      0.97      0.97     42950\n",
      "           1       0.72      0.69      0.70      4922\n",
      "\n",
      "    accuracy                           0.94     47872\n",
      "   macro avg       0.84      0.83      0.84     47872\n",
      "weighted avg       0.94      0.94      0.94     47872\n",
      "\n",
      "*******************************************\n"
     ]
    }
   ],
   "source": [
    "dec_clf = DecisionTreeClassifier()\n",
    "dec_clf.fit(X_train, y_train)\n",
    "y_pred_train = dec_clf.predict(X_train)\n",
    "y_pred = dec_clf.predict(X_test) \n",
    "print(\"******************RESULTS******************\")\n",
    "print(\"\\n The accuracy score of train Model :\", accuracy_score(y_train,y_pred_train)) \n",
    "\n",
    "print(\"\\n The accuracy score test of Model :\", accuracy_score(y_test,y_pred)) \n",
    "print(\"\\n The ROC AUC score of Model :\", roc_auc_score(y_test,y_pred))\n",
    "\n",
    "CV=cross_val_score(dec_clf,X_train, y_train,cv=5)\n",
    "print(\"\\n The CV score of Model :\", CV.mean())\n",
    "\n",
    "print(\"\\n The confusion Matrix :\\n \", confusion_matrix(y_test, y_pred))\n",
    "print(\"\\n The classification report:\\n \",classification_report(y_test, y_pred))\n",
    "      \n",
    "      \n",
    "print(\"*******************************************\")"
   ]
  },
  {
   "cell_type": "markdown",
   "id": "afc09459",
   "metadata": {},
   "source": [
    "## Gradient boosting"
   ]
  },
  {
   "cell_type": "code",
   "execution_count": 38,
   "id": "f2be4640",
   "metadata": {},
   "outputs": [
    {
     "name": "stdout",
     "output_type": "stream",
     "text": [
      "******************RESULTS******************\n",
      "\n",
      " The accuracy score of train Model : 0.9423450523281318\n",
      "\n",
      " The accuracy score test of Model : 0.9383773395721925\n",
      "\n",
      " The ROC AUC score of Model : 0.7127372434897083\n",
      "\n",
      " The CV score of Model : 0.9403754921869462\n",
      "\n",
      " The confusion Matrix :\n",
      "  [[42812   138]\n",
      " [ 2812  2110]]\n",
      "\n",
      " The classification report:\n",
      "                precision    recall  f1-score   support\n",
      "\n",
      "           0       0.94      1.00      0.97     42950\n",
      "           1       0.94      0.43      0.59      4922\n",
      "\n",
      "    accuracy                           0.94     47872\n",
      "   macro avg       0.94      0.71      0.78     47872\n",
      "weighted avg       0.94      0.94      0.93     47872\n",
      "\n",
      "*******************************************\n"
     ]
    }
   ],
   "source": [
    "gb_clf = GradientBoostingClassifier()\n",
    "gb_clf.fit(X_train, y_train)\n",
    "y_pred_train = gb_clf.predict(X_train)\n",
    "y_pred = gb_clf.predict(X_test) \n",
    "print(\"******************RESULTS******************\")\n",
    "print(\"\\n The accuracy score of train Model :\", accuracy_score(y_train,y_pred_train)) \n",
    "\n",
    "print(\"\\n The accuracy score test of Model :\", accuracy_score(y_test,y_pred)) \n",
    "print(\"\\n The ROC AUC score of Model :\", roc_auc_score(y_test,y_pred))\n",
    "\n",
    "CV=cross_val_score(gb_clf,X_train, y_train,cv=5)\n",
    "print(\"\\n The CV score of Model :\", CV.mean())\n",
    "\n",
    "print(\"\\n The confusion Matrix :\\n \", confusion_matrix(y_test, y_pred))\n",
    "print(\"\\n The classification report:\\n \",classification_report(y_test, y_pred))\n",
    "      \n",
    "      \n",
    "print(\"*******************************************\")"
   ]
  },
  {
   "cell_type": "markdown",
   "id": "30dcaae2",
   "metadata": {},
   "source": [
    "## Adaboost Classifier"
   ]
  },
  {
   "cell_type": "code",
   "execution_count": 39,
   "id": "23ff7867",
   "metadata": {},
   "outputs": [
    {
     "name": "stdout",
     "output_type": "stream",
     "text": [
      "******************RESULTS******************\n",
      "\n",
      " The accuracy score of train Model : 0.9464990734026267\n",
      "\n",
      " The accuracy score test of Model : 0.945040942513369\n",
      "\n",
      " The ROC AUC score of Model : 0.765919666944024\n",
      "\n",
      " The CV score of Model : 0.9459440204839058\n",
      "\n",
      " The confusion Matrix :\n",
      "  [[42581   369]\n",
      " [ 2262  2660]]\n",
      "\n",
      " The classification report:\n",
      "                precision    recall  f1-score   support\n",
      "\n",
      "           0       0.95      0.99      0.97     42950\n",
      "           1       0.88      0.54      0.67      4922\n",
      "\n",
      "    accuracy                           0.95     47872\n",
      "   macro avg       0.91      0.77      0.82     47872\n",
      "weighted avg       0.94      0.95      0.94     47872\n",
      "\n",
      "*******************************************\n"
     ]
    }
   ],
   "source": [
    "ada_clf = AdaBoostClassifier()\n",
    "ada_clf.fit(X_train, y_train)\n",
    "y_pred_train = ada_clf.predict(X_train)\n",
    "y_pred = ada_clf.predict(X_test) \n",
    "print(\"******************RESULTS******************\")\n",
    "print(\"\\n The accuracy score of train Model :\", accuracy_score(y_train,y_pred_train)) \n",
    "\n",
    "print(\"\\n The accuracy score test of Model :\", accuracy_score(y_test,y_pred)) \n",
    "print(\"\\n The ROC AUC score of Model :\", roc_auc_score(y_test,y_pred))\n",
    "\n",
    "CV=cross_val_score(ada_clf,X_train, y_train,cv=5)\n",
    "print(\"\\n The CV score of Model :\", CV.mean())\n",
    "\n",
    "print(\"\\n The confusion Matrix :\\n \", confusion_matrix(y_test, y_pred))\n",
    "print(\"\\n The classification report:\\n \",classification_report(y_test, y_pred))\n",
    "      \n",
    "      \n",
    "print(\"*******************************************\")"
   ]
  },
  {
   "cell_type": "markdown",
   "id": "1bb80a7c",
   "metadata": {},
   "source": [
    "## SVC"
   ]
  },
  {
   "cell_type": "code",
   "execution_count": 40,
   "id": "15ded040",
   "metadata": {},
   "outputs": [
    {
     "name": "stdout",
     "output_type": "stream",
     "text": [
      "******************RESULTS******************\n",
      "\n",
      " The accuracy score of train Model : 0.9804384998970448\n",
      "\n",
      " The accuracy score test of Model : 0.9565299131016043\n",
      "\n",
      " The ROC AUC score of Model : 0.810908127203466\n",
      "\n",
      " The CV score of Model : 0.9561142099342262\n",
      "\n",
      " The confusion Matrix :\n",
      "  [[42702   248]\n",
      " [ 1833  3089]]\n",
      "\n",
      " The classification report:\n",
      "                precision    recall  f1-score   support\n",
      "\n",
      "           0       0.96      0.99      0.98     42950\n",
      "           1       0.93      0.63      0.75      4922\n",
      "\n",
      "    accuracy                           0.96     47872\n",
      "   macro avg       0.94      0.81      0.86     47872\n",
      "weighted avg       0.96      0.96      0.95     47872\n",
      "\n",
      "*******************************************\n"
     ]
    }
   ],
   "source": [
    "svc_clf = SVC()\n",
    "svc_clf.fit(X_train, y_train)\n",
    "y_pred_train = svc_clf.predict(X_train)\n",
    "y_pred = svc_clf.predict(X_test) \n",
    "print(\"******************RESULTS******************\")\n",
    "print(\"\\n The accuracy score of train Model :\", accuracy_score(y_train,y_pred_train)) \n",
    "\n",
    "print(\"\\n The accuracy score test of Model :\", accuracy_score(y_test,y_pred)) \n",
    "print(\"\\n The ROC AUC score of Model :\", roc_auc_score(y_test,y_pred))\n",
    "\n",
    "CV=cross_val_score(svc_clf,X_train, y_train,cv=5)\n",
    "print(\"\\n The CV score of Model :\", CV.mean())\n",
    "\n",
    "print(\"\\n The confusion Matrix :\\n \", confusion_matrix(y_test, y_pred))\n",
    "print(\"\\n The classification report:\\n \",classification_report(y_test, y_pred))\n",
    "      \n",
    "      \n",
    "print(\"*******************************************\")"
   ]
  },
  {
   "cell_type": "code",
   "execution_count": 42,
   "id": "8af041f9",
   "metadata": {},
   "outputs": [
    {
     "data": {
      "text/plain": [
       "<Figure size 1080x1080 with 0 Axes>"
      ]
     },
     "metadata": {},
     "output_type": "display_data"
    },
    {
     "data": {
      "image/png": "[encoded data removed]",
      "text/plain": [
       "<Figure size 432x288 with 1 Axes>"
      ]
     },
     "metadata": {},
     "output_type": "display_data"
    }
   ],
   "source": [
    "plt.figure(figsize=(15,15), facecolor='white')\n",
    "show = plot_roc_curve(Log_reg,X_test, y_pred)\n",
    "plot_roc_curve(rf,X_test, y_pred,ax=show.ax_)\n",
    "plot_roc_curve(mnn_clf,X_test, y_pred,ax=show.ax_)\n",
    "plot_roc_curve(knn_clf,X_test, y_pred,ax=show.ax_)\n",
    "plot_roc_curve(dec_clf,X_test, y_pred,ax=show.ax_)\n",
    "plot_roc_curve(gb_clf,X_test, y_pred,ax=show.ax_) \n",
    "plot_roc_curve(svc_clf,X_test, y_pred,ax=show.ax_) \n",
    "plt.show()"
   ]
  },
  {
   "cell_type": "markdown",
   "id": "5be2762f",
   "metadata": {},
   "source": [
    "## Saving the BEST MODEL\n",
    "\n",
    "We can see from the ROC curve that, SVC is giving the highest area which proves that it is the best model."
   ]
  },
  {
   "cell_type": "code",
   "execution_count": 44,
   "id": "0a513710",
   "metadata": {},
   "outputs": [],
   "source": [
    "import pickle\n",
    "\n",
    "file = open('Malignant Comments classifier.pkl', 'wb')\n",
    "pickle.dump(svc_clf, file)"
   ]
  },
  {
   "cell_type": "code",
   "execution_count": null,
   "id": "9dc9637f",
   "metadata": {},
   "outputs": [],
   "source": []
  },
  {
   "cell_type": "code",
   "execution_count": null,
   "id": "403b3d85",
   "metadata": {},
   "outputs": [],
   "source": []
  },
  {
   "cell_type": "code",
   "execution_count": null,
   "id": "0030db28",
   "metadata": {},
   "outputs": [],
   "source": []
  }
 ],
 "metadata": {
  "kernelspec": {
   "display_name": "Python 3 (ipykernel)",
   "language": "python",
   "name": "python3"
  },
  "language_info": {
   "codemirror_mode": {
    "name": "ipython",
    "version": 3
   },
   "file_extension": ".py",
   "mimetype": "text/x-python",
   "name": "python",
   "nbconvert_exporter": "python",
   "pygments_lexer": "ipython3",
   "version": "3.9.7"
  }
 },
 "nbformat": 4,
 "nbformat_minor": 5
}
